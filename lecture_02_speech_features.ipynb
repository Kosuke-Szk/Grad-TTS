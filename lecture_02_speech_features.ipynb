{
 "cells": [
  {
   "cell_type": "markdown",
   "id": "e4cbeece",
   "metadata": {},
   "source": [
    "# 演習その2 音声信号を特徴量に変換する"
   ]
  },
  {
   "cell_type": "code",
   "execution_count": 1,
   "id": "0c80d931",
   "metadata": {},
   "outputs": [],
   "source": [
    "from scipy.io.wavfile import read"
   ]
  },
  {
   "cell_type": "code",
   "execution_count": 2,
   "id": "29fb91b1",
   "metadata": {},
   "outputs": [],
   "source": [
    "def load_wav(full_path):\n",
    "    sampling_rate, data = read(full_path)\n",
    "    return data, sampling_rate"
   ]
  },
  {
   "cell_type": "code",
   "execution_count": null,
   "id": "e11ffb3f",
   "metadata": {},
   "outputs": [],
   "source": []
  }
 ],
 "metadata": {
  "kernelspec": {
   "display_name": "Python 3 (ipykernel)",
   "language": "python",
   "name": "python3"
  },
  "language_info": {
   "codemirror_mode": {
    "name": "ipython",
    "version": 3
   },
   "file_extension": ".py",
   "mimetype": "text/x-python",
   "name": "python",
   "nbconvert_exporter": "python",
   "pygments_lexer": "ipython3",
   "version": "3.8.12"
  }
 },
 "nbformat": 4,
 "nbformat_minor": 5
}
